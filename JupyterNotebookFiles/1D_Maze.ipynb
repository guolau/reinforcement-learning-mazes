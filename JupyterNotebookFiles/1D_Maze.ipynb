{
 "cells": [
  {
   "cell_type": "code",
   "execution_count": 1,
   "metadata": {},
   "outputs": [],
   "source": [
    "# Laura Guo\n",
    "# 22 June 2020\n",
    "# This is the simple maze example discussed in the 6/17/20 meeting.\n",
    "\n",
    "# SET-UP, VARIABLES ------------------------\n",
    "\n",
    "import random\n",
    "\n",
    "maze_len = 30\n",
    "agent_index = random.randint(0, maze_len - 1) # current position of the agent in the maze\n",
    "value = [0] * maze_len # value function, all start with 0\n",
    "gamma = 1 # used in the value function\n",
    "previous_index = -1\n",
    "\n",
    "reward_index = random.randint(0, maze_len - 1) # location of the reward\n",
    "reward = [-1] * maze_len # reward function\n",
    "reward[reward_index] = 0\n",
    "maze = [''] * maze_len # visual representation of where the agent and reward are\n",
    "maze[reward_index] = 'R'\n",
    "\n",
    "# FUNCTIONS --------------------------------\n",
    "\n",
    "# policy function - agent determines if it will move left or right given the current agent location; returns the new index\n",
    "def pi(s):\n",
    "\tif value[right(s)] > value[left(s)]:\n",
    "\t\tnew_index = right(s)\n",
    "\telif value[right(s)] < value[left(s)]:\n",
    "\t\tnew_index = left(s)\n",
    "\telse:\n",
    "\t\tif random.random() < 0.5:\n",
    "\t\t\tnew_index = left(s)\n",
    "\t\telse:\n",
    "\t\t\tnew_index = right(s)\n",
    "\t\t\t\n",
    "\treturn new_index\n",
    "\n",
    "# returns the delta value given the current and previous indices\n",
    "def delta(s, p):\n",
    "\tglobal value\n",
    "\tvalue[p] += (reward[p] + gamma * value[s]) - value[p]\n",
    "\n",
    "# returns the delta value for the goal scenario given the agent's current index\n",
    "def delta_goal(s):\n",
    "\tglobal value\n",
    "\tvalue[s] += reward[s] - value[s]\n",
    "\n",
    "# returns the index to the right of the given position\n",
    "def right(s):\n",
    "\tif s != (maze_len - 1):\n",
    "\t\treturn s + 1\n",
    "\telse:\n",
    "\t\treturn 0\n",
    "\t\n",
    "# returns the index to the left of the given position\n",
    "def left(s):\n",
    "\tglobal agent_index\n",
    "\tif s != 0:\n",
    "\t\treturn s - 1\n",
    "\telse:\n",
    "\t\treturn maze_len - 1\n",
    "\t\n",
    "# TRAINING ---------------------------------\n",
    "\n",
    "for episode_num in range(1000):\n",
    "\t#print('Episode ', episode_num)\n",
    "\t\n",
    "\twhile agent_index != reward_index:\n",
    "\t    # outputting information about maze and functions\n",
    "\t\t#maze[agent_index] = 'A'\n",
    "\t\t#print('Maze\\t\\t',  maze)\n",
    "\t\t#maze[agent_index] = ' '\n",
    "\t\t#print('Value function\\t', value)\n",
    "\t\t\n",
    "\t\tprevious_index = agent_index\n",
    "\t\tagent_index = pi(agent_index) # making a move\n",
    "\t\tdelta(agent_index, previous_index)\n",
    "\n",
    "\tdelta_goal(agent_index)\n",
    "\t#print('Value function\\t', value)\n",
    "\t#print('----------------------')\n",
    "\t\n",
    "\tagent_index = random.randint(0, maze_len - 1) # placing the agent at a random location for the next episode"
   ]
  },
  {
   "cell_type": "code",
   "execution_count": 2,
   "metadata": {},
   "outputs": [
    {
     "data": {
      "image/png": "[encoded data removed]",
      "text/plain": [
       "<Figure size 432x288 with 1 Axes>"
      ]
     },
     "metadata": {
      "needs_background": "light"
     },
     "output_type": "display_data"
    }
   ],
   "source": [
    "import matplotlib.pyplot as plt\n",
    "\n",
    "plt.figure(1)\n",
    "\n",
    "plt.plot(value)\n",
    "plt.title('Value Predictions')\n",
    "plt.xlabel('State')\n",
    "plt.ylabel('Value')\n",
    "\n",
    "plt.tight_layout()\n",
    "plt.show()"
   ]
  },
  {
   "cell_type": "code",
   "execution_count": null,
   "metadata": {},
   "outputs": [],
   "source": []
  }
 ],
 "metadata": {
  "kernelspec": {
   "display_name": "Python 3",
   "language": "python",
   "name": "python3"
  },
  "language_info": {
   "codemirror_mode": {
    "name": "ipython",
    "version": 3
   },
   "file_extension": ".py",
   "mimetype": "text/x-python",
   "name": "python",
   "nbconvert_exporter": "python",
   "pygments_lexer": "ipython3",
   "version": "3.7.6"
  }
 },
 "nbformat": 4,
 "nbformat_minor": 4
}
